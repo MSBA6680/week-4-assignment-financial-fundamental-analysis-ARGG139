{
 "cells": [
  {
   "cell_type": "code",
   "execution_count": null,
   "metadata": {},
   "outputs": [],
   "source": [
    "# # You can write your codes in this file and Commit&push changes to submit OR upload your ipynb file in the repository.\n"
   ]
  }
 ],
 "metadata": {
  "language_info": {
   "name": "python"
  }
 },
 "nbformat": 4,
 "nbformat_minor": 2
}
